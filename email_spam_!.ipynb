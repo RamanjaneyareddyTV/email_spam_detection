{
 "cells": [
  {
   "cell_type": "code",
   "execution_count": 1,
   "id": "e448a32b-b0b9-4eee-8263-afb0f42e9e60",
   "metadata": {},
   "outputs": [],
   "source": [
    "import pandas as pd\n",
    "import numpy as np\n",
    "import matplotlib.pyplot as plt\n",
    "import string\n",
    "import re\n",
    "import spacy"
   ]
  },
  {
   "cell_type": "code",
   "execution_count": 2,
   "id": "3ec2b610-0845-4a10-a439-afba5fe41864",
   "metadata": {},
   "outputs": [],
   "source": [
    "df = pd.read_csv('https://raw.githubusercontent.com/OmkarPathak/Playing-with-datasets/master/Email%20Spam%20Filtering/emails.csv', nrows=5000)"
   ]
  },
  {
   "cell_type": "code",
   "execution_count": 3,
   "id": "e237c243-f98e-48bc-bb66-bf7906366c43",
   "metadata": {
    "tags": []
   },
   "outputs": [
    {
     "data": {
      "text/html": [
       "<div>\n",
       "<style scoped>\n",
       "    .dataframe tbody tr th:only-of-type {\n",
       "        vertical-align: middle;\n",
       "    }\n",
       "\n",
       "    .dataframe tbody tr th {\n",
       "        vertical-align: top;\n",
       "    }\n",
       "\n",
       "    .dataframe thead th {\n",
       "        text-align: right;\n",
       "    }\n",
       "</style>\n",
       "<table border=\"1\" class=\"dataframe\">\n",
       "  <thead>\n",
       "    <tr style=\"text-align: right;\">\n",
       "      <th></th>\n",
       "      <th>text</th>\n",
       "      <th>spam</th>\n",
       "    </tr>\n",
       "  </thead>\n",
       "  <tbody>\n",
       "    <tr>\n",
       "      <th>0</th>\n",
       "      <td>Subject: naturally irresistible your corporate...</td>\n",
       "      <td>1</td>\n",
       "    </tr>\n",
       "    <tr>\n",
       "      <th>1</th>\n",
       "      <td>Subject: the stock trading gunslinger  fanny i...</td>\n",
       "      <td>1</td>\n",
       "    </tr>\n",
       "    <tr>\n",
       "      <th>2</th>\n",
       "      <td>Subject: unbelievable new homes made easy  im ...</td>\n",
       "      <td>1</td>\n",
       "    </tr>\n",
       "    <tr>\n",
       "      <th>3</th>\n",
       "      <td>Subject: 4 color printing special  request add...</td>\n",
       "      <td>1</td>\n",
       "    </tr>\n",
       "    <tr>\n",
       "      <th>4</th>\n",
       "      <td>Subject: do not have money , get software cds ...</td>\n",
       "      <td>1</td>\n",
       "    </tr>\n",
       "  </tbody>\n",
       "</table>\n",
       "</div>"
      ],
      "text/plain": [
       "                                                text  spam\n",
       "0  Subject: naturally irresistible your corporate...     1\n",
       "1  Subject: the stock trading gunslinger  fanny i...     1\n",
       "2  Subject: unbelievable new homes made easy  im ...     1\n",
       "3  Subject: 4 color printing special  request add...     1\n",
       "4  Subject: do not have money , get software cds ...     1"
      ]
     },
     "execution_count": 3,
     "metadata": {},
     "output_type": "execute_result"
    }
   ],
   "source": [
    "df.head()"
   ]
  },
  {
   "cell_type": "code",
   "execution_count": 4,
   "id": "4cb1bcc8-3863-43c6-b51f-3c3833cbc4c1",
   "metadata": {},
   "outputs": [],
   "source": [
    "data = df.copy()"
   ]
  },
  {
   "cell_type": "code",
   "execution_count": 5,
   "id": "c013f900-f11c-4d6c-9c19-c96a9229e89f",
   "metadata": {
    "tags": []
   },
   "outputs": [
    {
     "data": {
      "text/plain": [
       "\"Subject: naturally irresistible your corporate identity  lt is really hard to recollect a company : the  market is full of suqgestions and the information isoverwhelminq ; but a good  catchy logo , stylish statlonery and outstanding website  will make the task much easier .  we do not promise that havinq ordered a iogo your  company will automaticaily become a world ieader : it isguite ciear that  without good products , effective business organization and practicable aim it  will be hotat nowadays market ; but we do promise that your marketing efforts  will become much more effective . here is the list of clear  benefits : creativeness : hand - made , original logos , specially done  to reflect your distinctive company image . convenience : logo and stationery  are provided in all formats ; easy - to - use content management system letsyou  change your website content and even its structure . promptness : you  will see logo drafts within three business days . affordability : your  marketing break - through shouldn ' t make gaps in your budget . 100 % satisfaction  guaranteed : we provide unlimited amount of changes with no extra fees for you to  be surethat you will love the result of this collaboration . have a look at our  portfolio _ _ _ _ _ _ _ _ _ _ _ _ _ _ _ _ _ _ _ _ _ _ _ _ _ _ _ _ _ _ _ _ _ _ _ _ _ _ _ _ _ _ _ _ _ _ _ _ _ _ _ _ not interested . . . _ _ _ _ _ _ _ _ _ _ _ _ _ _ _ _ _ _ _ _ _ _ _ _ _ _ _ _ _ _ _ _ _ _ _ _ _ _ _ _ _ _ _ _ _ _ _ _ _ _ _ _\""
      ]
     },
     "execution_count": 5,
     "metadata": {},
     "output_type": "execute_result"
    }
   ],
   "source": [
    "data.iloc[0,0]"
   ]
  },
  {
   "cell_type": "code",
   "execution_count": 6,
   "id": "86965eeb-98fa-4322-affe-aa2404a70a44",
   "metadata": {
    "tags": []
   },
   "outputs": [
    {
     "data": {
      "text/plain": [
       "0        naturally irresistible your corporate identit...\n",
       "1        the stock trading gunslinger  fanny is merril...\n",
       "2        unbelievable new homes made easy  im wanting ...\n",
       "3        4 color printing special  request additional ...\n",
       "4        do not have money , get software cds from her...\n",
       "                              ...                        \n",
       "4995     re : mountaintop meetings next week  ravi ,  ...\n",
       "4996     hedge effectiveness test for fair value hedge...\n",
       "4997     your job application to enron research group ...\n",
       "4998     1 / 2 day seminar : the new texas electric ma...\n",
       "4999     transport fuel p / l  - - - - - - - - - - - -...\n",
       "Name: text, Length: 5000, dtype: object"
      ]
     },
     "execution_count": 6,
     "metadata": {},
     "output_type": "execute_result"
    }
   ],
   "source": [
    "data['text'] = data['text'].apply(lambda x: x[8:])\n",
    "data['text']"
   ]
  },
  {
   "cell_type": "code",
   "execution_count": 7,
   "id": "c36d1e28-2b25-470c-9aa0-010635c7384b",
   "metadata": {},
   "outputs": [],
   "source": [
    "data['text'] = data['text'].apply(lambda x: x.lower())"
   ]
  },
  {
   "cell_type": "code",
   "execution_count": 8,
   "id": "48ce37b0-d7ad-4c69-b122-8a709fa008e7",
   "metadata": {},
   "outputs": [],
   "source": [
    "data['text'] = data['text'].map(lambda x: re.sub(r'\\W+', ' ' , x))"
   ]
  },
  {
   "cell_type": "code",
   "execution_count": 9,
   "id": "b5aed303-04a9-4f92-b34f-d406a2fee0ca",
   "metadata": {},
   "outputs": [],
   "source": [
    "data['text'] = data['text'].apply(lambda x: ''.join([i for i in x if not i.isdigit()]))"
   ]
  },
  {
   "cell_type": "code",
   "execution_count": 10,
   "id": "b5bf23bb-3045-4fd6-8a3b-336c0b86862d",
   "metadata": {},
   "outputs": [],
   "source": [
    "data['text'] = data['text'].apply(lambda x: ' '.join([i for i in x.split()]))"
   ]
  },
  {
   "cell_type": "code",
   "execution_count": 11,
   "id": "db5aa2fa-90cc-4fbc-bcb5-596f70e6b8ba",
   "metadata": {},
   "outputs": [],
   "source": [
    "import spacy\n",
    "nlp = spacy.load(\"en_core_web_sm\")\n",
    "stopwords = nlp.Defaults.stop_words\n",
    "data['text'] = data['text'].apply(lambda x: ' '.join([i for i in x.split() if i not in stopwords]))"
   ]
  },
  {
   "cell_type": "code",
   "execution_count": 12,
   "id": "eef88bd3-7b25-4c3c-b5aa-927f2dc2cd21",
   "metadata": {},
   "outputs": [],
   "source": [
    "# lemmetization and stemming\n",
    "data['text'] = data['text'].apply(lambda x: ' '.join([i.lemma_ for i in nlp(x)]))"
   ]
  },
  {
   "cell_type": "code",
   "execution_count": 13,
   "id": "f9fcbb2c-5b90-4e10-8130-3cec96107e89",
   "metadata": {},
   "outputs": [
    {
     "data": {
      "text/plain": [
       "'unbelievable new home easy I m want homeowner pre approve home loan fix rate offer extend unconditionally credit way factor advantage limited time opportunity ask visit website complete minute post approval form look foward hearing dorca pittman'"
      ]
     },
     "execution_count": 13,
     "metadata": {},
     "output_type": "execute_result"
    }
   ],
   "source": [
    "data.iloc[2,0]"
   ]
  },
  {
   "cell_type": "code",
   "execution_count": 14,
   "id": "a7eb2b30-bec3-47c5-85d6-a2587d8f3fef",
   "metadata": {},
   "outputs": [],
   "source": [
    "X = data['text']\n",
    "y = data['spam']"
   ]
  },
  {
   "cell_type": "code",
   "execution_count": 15,
   "id": "46d88c90-454a-42be-bdb7-41bf98dce4cb",
   "metadata": {},
   "outputs": [],
   "source": [
    "from sklearn.model_selection import train_test_split\n",
    "x_train, x_test, y_train, y_test = train_test_split(X,y,test_size=0.2)"
   ]
  },
  {
   "cell_type": "code",
   "execution_count": 16,
   "id": "1f0a7a4e-4d4e-4a0c-a9f1-504627e1e4d1",
   "metadata": {},
   "outputs": [
    {
     "name": "stdout",
     "output_type": "stream",
     "text": [
      "(4000,)\n",
      "(1000,)\n",
      "(4000,)\n",
      "(1000,)\n"
     ]
    }
   ],
   "source": [
    "print(x_train.shape)\n",
    "print(x_test.shape)\n",
    "print(y_train.shape)\n",
    "print(y_test.shape)"
   ]
  },
  {
   "cell_type": "code",
   "execution_count": 17,
   "id": "08e3fb0f-c97c-4e2f-9702-8eb81104efdb",
   "metadata": {},
   "outputs": [],
   "source": [
    "# bag of words\n",
    "from sklearn.feature_extraction.text import CountVectorizer\n",
    "vec = CountVectorizer()\n",
    "vec.fit_transform(x_train)\n",
    "x_train_vec = vec.fit_transform(x_train)\n",
    "# cv_dataframe=pd.DataFrame(Count_data.toarray(),columns=vec.get_feature_names())\n",
    "# print(cv_dataframe)"
   ]
  },
  {
   "cell_type": "code",
   "execution_count": 18,
   "id": "f080ad94-e32e-4da9-85b2-0b613e7aea7e",
   "metadata": {},
   "outputs": [
    {
     "data": {
      "text/plain": [
       "RandomForestClassifier()"
      ]
     },
     "execution_count": 18,
     "metadata": {},
     "output_type": "execute_result"
    }
   ],
   "source": [
    "from sklearn .ensemble import RandomForestClassifier\n",
    "model = RandomForestClassifier()\n",
    "model.fit(x_train_vec, y_train)"
   ]
  },
  {
   "cell_type": "code",
   "execution_count": 19,
   "id": "33c875c1-6691-4200-9eb2-f15e4d8e4921",
   "metadata": {},
   "outputs": [],
   "source": [
    "y_pred = model.predict(vec.transform(x_test))"
   ]
  },
  {
   "cell_type": "code",
   "execution_count": 20,
   "id": "15bb39c1-a85c-4f97-8e0a-d21c7ae73bf3",
   "metadata": {},
   "outputs": [
    {
     "name": "stdout",
     "output_type": "stream",
     "text": [
      "0.988\n"
     ]
    }
   ],
   "source": [
    "from sklearn.metrics import accuracy_score\n",
    "score = accuracy_score(y_pred, y_test)\n",
    "print(score)"
   ]
  },
  {
   "cell_type": "code",
   "execution_count": 25,
   "id": "d96e37a1-4ba1-4647-a161-e39aba74c3c2",
   "metadata": {},
   "outputs": [],
   "source": [
    "# tf-idf term frequency-inverse document frequency\n",
    "from sklearn.feature_extraction.text import TfidfVectorizer\n",
    "vec1 = TfidfVectorizer(max_features=1000)\n",
    "x_train_vec = vec1.fit_transform(x_train)"
   ]
  },
  {
   "cell_type": "code",
   "execution_count": 26,
   "id": "80812aa3-8013-4d24-8c65-3e9d4792ce58",
   "metadata": {},
   "outputs": [
    {
     "data": {
      "text/plain": [
       "RandomForestClassifier()"
      ]
     },
     "execution_count": 26,
     "metadata": {},
     "output_type": "execute_result"
    }
   ],
   "source": [
    "from sklearn .ensemble import RandomForestClassifier\n",
    "model = RandomForestClassifier()\n",
    "model.fit(x_train_vec, y_train)"
   ]
  },
  {
   "cell_type": "code",
   "execution_count": 27,
   "id": "7644e7d6-8508-467c-9337-9a9d4a868698",
   "metadata": {},
   "outputs": [],
   "source": [
    "y_pred = model.predict(vec1.transform(x_test))"
   ]
  },
  {
   "cell_type": "code",
   "execution_count": 28,
   "id": "a0179252-13b8-4db5-9540-e6169e6d3880",
   "metadata": {},
   "outputs": [
    {
     "name": "stdout",
     "output_type": "stream",
     "text": [
      "0.985\n"
     ]
    }
   ],
   "source": [
    "from sklearn.metrics import accuracy_score\n",
    "score = accuracy_score(y_pred, y_test)\n",
    "print(score)"
   ]
  },
  {
   "cell_type": "code",
   "execution_count": null,
   "id": "ca664877-f780-448e-b88b-e7dac0db896a",
   "metadata": {},
   "outputs": [],
   "source": []
  },
  {
   "cell_type": "code",
   "execution_count": null,
   "id": "fa34bcdf-7c3a-4cd0-a47e-d67a76969fb6",
   "metadata": {},
   "outputs": [],
   "source": []
  },
  {
   "cell_type": "code",
   "execution_count": null,
   "id": "3558d667-d1af-4ae7-9131-45f88af1b809",
   "metadata": {},
   "outputs": [],
   "source": []
  },
  {
   "cell_type": "code",
   "execution_count": null,
   "id": "6a716d2a-43a2-4ab4-bb9b-33e25c9fd6a3",
   "metadata": {},
   "outputs": [],
   "source": []
  },
  {
   "cell_type": "code",
   "execution_count": null,
   "id": "02371aff-60bd-4e8a-9b95-c2ffdb976bed",
   "metadata": {},
   "outputs": [],
   "source": []
  },
  {
   "cell_type": "code",
   "execution_count": null,
   "id": "9e5ad7e2-36a0-43a8-8063-dc5ac30753fe",
   "metadata": {},
   "outputs": [],
   "source": []
  }
 ],
 "metadata": {
  "kernelspec": {
   "display_name": "Python 3 (ipykernel)",
   "language": "python",
   "name": "python3"
  },
  "language_info": {
   "codemirror_mode": {
    "name": "ipython",
    "version": 3
   },
   "file_extension": ".py",
   "mimetype": "text/x-python",
   "name": "python",
   "nbconvert_exporter": "python",
   "pygments_lexer": "ipython3",
   "version": "3.9.8"
  }
 },
 "nbformat": 4,
 "nbformat_minor": 5
}
